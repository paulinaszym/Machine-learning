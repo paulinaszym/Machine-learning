{
 "cells": [
  {
   "cell_type": "code",
   "execution_count": 207,
   "metadata": {},
   "outputs": [],
   "source": [
    "#Cwiczenie 1\n",
    "import pandas as pd\n",
    "import numpy as np\n",
    "\n",
    "#Zadanie 1\n",
    "titanic = pd.read_csv('titanic.csv')\n",
    "titanic=titanic.replace('?',np.NaN)\n",
    "titanic['CabinReduced'] = titanic['cabin'].astype(str).str[0]"
   ]
  },
  {
   "cell_type": "markdown",
   "metadata": {},
   "source": [
    "Zadanie 2<br>\n",
    "Funkcja train_test_split dzieli podane jako argument dane (tablicę, macierz) na losowe zbiory treningowy i testowy. "
   ]
  },
  {
   "cell_type": "code",
   "execution_count": 208,
   "metadata": {},
   "outputs": [],
   "source": [
    "#Zadanie 3\n",
    "col_name = ['cabin','CabinReduced','sex']"
   ]
  },
  {
   "cell_type": "code",
   "execution_count": 209,
   "metadata": {},
   "outputs": [
    {
     "name": "stdout",
     "output_type": "stream",
     "text": [
      "(916, 3) (393, 3) (916,) (393,)\n"
     ]
    }
   ],
   "source": [
    "from sklearn.model_selection import train_test_split\n",
    "\n",
    "#Zadanie 4\n",
    "X_train, X_test, y_train, y_test = train_test_split(titanic[col_name],titanic['survived'],test_size=0.3,random_state=0)\n",
    "print(X_train.shape, X_test.shape,y_train.shape,y_test.shape)"
   ]
  },
  {
   "cell_type": "markdown",
   "metadata": {},
   "source": [
    "Funkcja podzieliła zbiór tak, że 70% trafilo do zbioru treningowego, a 30% do zbioru testowego. Proporcje te są takie same w przypadku X jak i y. Zbiór X ma trzy kolumny, bo tyle ich podaliśmy przy wywoływaniu funkcji jako zmienną niezależną."
   ]
  },
  {
   "cell_type": "code",
   "execution_count": 210,
   "metadata": {},
   "outputs": [
    {
     "data": {
      "text/plain": [
       "37"
      ]
     },
     "execution_count": 210,
     "metadata": {},
     "output_type": "execute_result"
    }
   ],
   "source": [
    "#Zadanie 5\n",
    "Unique_test1 = [x for x in X_test.cabin.unique() if x not in X_train.cabin.unique()]\n",
    "len(Unique_test1)"
   ]
  },
  {
   "cell_type": "code",
   "execution_count": 211,
   "metadata": {},
   "outputs": [
    {
     "data": {
      "text/plain": [
       "0"
      ]
     },
     "execution_count": 211,
     "metadata": {},
     "output_type": "execute_result"
    }
   ],
   "source": [
    "Unique_test2 = [x for x in X_test.CabinReduced.unique() if x not in X_train.CabinReduced.unique()]\n",
    "len(Unique_test2)"
   ]
  },
  {
   "cell_type": "code",
   "execution_count": 212,
   "metadata": {},
   "outputs": [
    {
     "data": {
      "text/plain": [
       "0"
      ]
     },
     "execution_count": 212,
     "metadata": {},
     "output_type": "execute_result"
    }
   ],
   "source": [
    "Unique_test3 = [x for x in X_test.sex.unique() if x not in X_train.sex.unique()]\n",
    "len(Unique_test3)"
   ]
  },
  {
   "cell_type": "markdown",
   "metadata": {},
   "source": [
    "Rozkład etykiet jest równomierny dla 'CabinReduced' i 'sex', ale nie dla 'cabin'."
   ]
  },
  {
   "cell_type": "code",
   "execution_count": 213,
   "metadata": {},
   "outputs": [
    {
     "name": "stdout",
     "output_type": "stream",
     "text": [
      "{nan: 0, 'A36': 1, 'D47': 2, 'D49': 3, 'D': 4, 'C78': 5, 'B50': 6, 'E8': 7, 'D56': 8, 'A20': 9, 'D9': 10, 'B24': 11, 'C83': 12, 'C99': 13, 'E45': 14, 'A6': 15, 'C85': 16, 'E121': 17, 'D33': 18, 'D6': 19, 'D15': 20, 'C93': 21, 'C92': 22, 'B37': 23, 'B18': 24, 'B94': 25, 'C82': 26, 'C125': 27, 'C105': 28, 'C118': 29, 'E24': 30, 'D7': 31, 'D17': 32, 'C49': 33, 'C2': 34, 'A34': 35, 'A16': 36, 'E34': 37, 'B96 B98': 38, 'E63': 39, 'C22 C26': 40, 'F4': 41, 'C55 C57': 42, 'F E57': 43, 'C128': 44, 'B30': 45, 'C110': 46, 'A21': 47, 'B41': 48, 'B45': 49, 'C54': 50, 'D21': 51, 'D26': 52, 'B36': 53, 'F G63': 54, 'A24': 55, 'C130': 56, 'D28': 57, 'C89': 58, 'C95': 59, 'A11': 60, 'B51 B53 B55': 61, 'E44': 62, 'A26': 63, 'B77': 64, 'C116': 65, 'C123': 66, 'A29': 67, 'C28': 68, 'B3': 69, 'C126': 70, 'E36': 71, 'C51': 72, 'B71': 73, 'E77': 74, 'B73': 75, 'B58 B60': 76, 'B86': 77, 'C90': 78, 'C65': 79, 'E60': 80, 'D36': 81, 'B61': 82, 'E49': 83, 'C87': 84, 'E68': 85, 'F': 86, 'C52': 87, 'C30': 88, 'D20': 89, 'B42': 90, 'B26': 91, 'E46': 92, 'B28': 93, 'C80': 94, 'G6': 95, 'A10': 96, 'D34': 97, 'D38': 98, 'B20': 99, 'D40': 100, 'B4': 101, 'C111': 102, 'E101': 103, 'E33': 104, 'C91': 105, 'C62 C64': 106, 'F G73': 107, 'A9': 108, 'B35': 109, 'E50': 110, 'F2': 111, 'C148': 112, 'A14': 113, 'C6': 114, 'B57 B59 B63 B66': 115, 'C101': 116, 'D43': 117, 'B69': 118, 'E25': 119, 'A18': 120, 'C132': 121, 'D50': 122, 'F E46': 123, 'E10': 124, 'C86': 125, 'T': 126, 'B5': 127, 'B52 B54 B56': 128, 'D19': 129, 'F33': 130, 'E31': 131, 'E67': 132, 'D35': 133, 'B49': 134, 'C103': 135, 'C68': 136, 'D46': 137, 'D37': 138, 'B78': 139, 'B19': 140, 'E38': 141, 'C97': 142, 'C39': 143, 'C124': 144, 'C7': 145, 'D30': 146, 'E17': 147, 'B102': 148, 'A5': 149, 'C23 C25 C27': 150} {nan: 0, 'E25': 1, 'B58 B60': 2, 'D10 D12': 3, 'C22 C26': 4, 'F4': 5, 'D': 6, 'C70': 7, 'E40': 8, 'B79': 9, 'E8': 10, 'C104': 11, 'B10': 12, 'E52': 13, 'B41': 14, 'F33': 15, 'C53': 16, 'C52': 17, 'B45': 18, 'B101': 19, 'F E69': 20, 'B80': 21, 'D21': 22, 'C85': 23, 'C80': 24, 'G6': 25, 'B49': 26, 'F38': 27, 'D48': 28, 'A7': 29, 'A23': 30, 'D28': 31, 'C31': 32, 'C32': 33, 'B51 B53 B55': 34, 'D15': 35, 'A19': 36, 'B78': 37, 'D37': 38, 'B20': 39, 'A31': 40, 'B39': 41, 'E44': 42, 'B18': 43, 'C23 C25 C27': 44, 'D11': 45, 'B11': 46, 'B82 B84': 47, 'C62 C64': 48, 'C106': 49, 'C46': 50, 'E39 E41': 51, 'F G73': 52, 'D22': 53, 'E24': 54, 'C124': 55, 'C50': 56, 'F2': 57, 'D30': 58, 'B57 B59 B63 B66': 59, 'C101': 60, 'D45': 61, 'C2': 62, 'C45': 63, 'E12': 64, 'C47': 65, 'A32': 66, 'B22': 67, 'E58': 68, 'B96 B98': 69, 'B38': 70}\n",
      "{'B': 0, 'G': 1, 'D': 2, 'C': 3, 'E': 4, 'A': 5, 'T': 6, 'F': 7, 'n': 8} {'B': 0, 'G': 1, 'D': 2, 'C': 3, 'E': 4, 'A': 5, 'F': 6, 'n': 7}\n",
      "{'male': 0, 'female': 1} {'male': 0, 'female': 1}\n"
     ]
    }
   ],
   "source": [
    "#Zadanie 6\n",
    "\n",
    "def f(x,col):\n",
    "    y={}  \n",
    "    c=list(set(x[col]))\n",
    "    for i, x in enumerate(c):\n",
    "        y[x] = i\n",
    "    return y\n",
    "X=[None]*3\n",
    "Y=[None]*3\n",
    "i=0\n",
    "for c in col_name:\n",
    "    X[i]=f(X_train,c) \n",
    "    Y[i]=f(X_test,c)\n",
    "    print(X[i],Y[i])\n",
    "    i=i+1    "
   ]
  },
  {
   "cell_type": "code",
   "execution_count": 214,
   "metadata": {},
   "outputs": [
    {
     "data": {
      "text/html": [
       "<div>\n",
       "<style scoped>\n",
       "    .dataframe tbody tr th:only-of-type {\n",
       "        vertical-align: middle;\n",
       "    }\n",
       "\n",
       "    .dataframe tbody tr th {\n",
       "        vertical-align: top;\n",
       "    }\n",
       "\n",
       "    .dataframe thead th {\n",
       "        text-align: right;\n",
       "    }\n",
       "</style>\n",
       "<table border=\"1\" class=\"dataframe\">\n",
       "  <thead>\n",
       "    <tr style=\"text-align: right;\">\n",
       "      <th></th>\n",
       "      <th>cabin_map</th>\n",
       "      <th>cabin</th>\n",
       "      <th>CabinReduced_map</th>\n",
       "      <th>CabinReduced</th>\n",
       "      <th>sex_map</th>\n",
       "      <th>sex</th>\n",
       "    </tr>\n",
       "  </thead>\n",
       "  <tbody>\n",
       "    <tr>\n",
       "      <th>501</th>\n",
       "      <td>0</td>\n",
       "      <td>NaN</td>\n",
       "      <td>8</td>\n",
       "      <td>n</td>\n",
       "      <td>1</td>\n",
       "      <td>female</td>\n",
       "    </tr>\n",
       "    <tr>\n",
       "      <th>588</th>\n",
       "      <td>0</td>\n",
       "      <td>NaN</td>\n",
       "      <td>8</td>\n",
       "      <td>n</td>\n",
       "      <td>1</td>\n",
       "      <td>female</td>\n",
       "    </tr>\n",
       "    <tr>\n",
       "      <th>402</th>\n",
       "      <td>0</td>\n",
       "      <td>NaN</td>\n",
       "      <td>8</td>\n",
       "      <td>n</td>\n",
       "      <td>1</td>\n",
       "      <td>female</td>\n",
       "    </tr>\n",
       "    <tr>\n",
       "      <th>1193</th>\n",
       "      <td>0</td>\n",
       "      <td>NaN</td>\n",
       "      <td>8</td>\n",
       "      <td>n</td>\n",
       "      <td>0</td>\n",
       "      <td>male</td>\n",
       "    </tr>\n",
       "    <tr>\n",
       "      <th>686</th>\n",
       "      <td>0</td>\n",
       "      <td>NaN</td>\n",
       "      <td>8</td>\n",
       "      <td>n</td>\n",
       "      <td>1</td>\n",
       "      <td>female</td>\n",
       "    </tr>\n",
       "  </tbody>\n",
       "</table>\n",
       "</div>"
      ],
      "text/plain": [
       "      cabin_map cabin  CabinReduced_map CabinReduced  sex_map     sex\n",
       "501           0   NaN                 8            n        1  female\n",
       "588           0   NaN                 8            n        1  female\n",
       "402           0   NaN                 8            n        1  female\n",
       "1193          0   NaN                 8            n        0    male\n",
       "686           0   NaN                 8            n        1  female"
      ]
     },
     "execution_count": 214,
     "metadata": {},
     "output_type": "execute_result"
    }
   ],
   "source": [
    "#Zadanie 7\n",
    "i=0\n",
    "for c in col_name:\n",
    "    X_train[c+'_map']= X_train[c].map(X[i])    \n",
    "    X_test[c+'_map']= X_test[c].map(Y[i])\n",
    "    i=i+1 \n",
    "X_train[['cabin_map','cabin','CabinReduced_map','CabinReduced','sex_map','sex']].head(5)"
   ]
  },
  {
   "cell_type": "code",
   "execution_count": 215,
   "metadata": {},
   "outputs": [
    {
     "data": {
      "text/html": [
       "<div>\n",
       "<style scoped>\n",
       "    .dataframe tbody tr th:only-of-type {\n",
       "        vertical-align: middle;\n",
       "    }\n",
       "\n",
       "    .dataframe tbody tr th {\n",
       "        vertical-align: top;\n",
       "    }\n",
       "\n",
       "    .dataframe thead th {\n",
       "        text-align: right;\n",
       "    }\n",
       "</style>\n",
       "<table border=\"1\" class=\"dataframe\">\n",
       "  <thead>\n",
       "    <tr style=\"text-align: right;\">\n",
       "      <th></th>\n",
       "      <th>cabin_map</th>\n",
       "      <th>cabin</th>\n",
       "      <th>CabinReduced_map</th>\n",
       "      <th>CabinReduced</th>\n",
       "      <th>sex_map</th>\n",
       "      <th>sex</th>\n",
       "    </tr>\n",
       "  </thead>\n",
       "  <tbody>\n",
       "    <tr>\n",
       "      <th>1139</th>\n",
       "      <td>0</td>\n",
       "      <td>NaN</td>\n",
       "      <td>7</td>\n",
       "      <td>n</td>\n",
       "      <td>0</td>\n",
       "      <td>male</td>\n",
       "    </tr>\n",
       "    <tr>\n",
       "      <th>533</th>\n",
       "      <td>0</td>\n",
       "      <td>NaN</td>\n",
       "      <td>7</td>\n",
       "      <td>n</td>\n",
       "      <td>1</td>\n",
       "      <td>female</td>\n",
       "    </tr>\n",
       "    <tr>\n",
       "      <th>459</th>\n",
       "      <td>0</td>\n",
       "      <td>NaN</td>\n",
       "      <td>7</td>\n",
       "      <td>n</td>\n",
       "      <td>0</td>\n",
       "      <td>male</td>\n",
       "    </tr>\n",
       "    <tr>\n",
       "      <th>1150</th>\n",
       "      <td>0</td>\n",
       "      <td>NaN</td>\n",
       "      <td>7</td>\n",
       "      <td>n</td>\n",
       "      <td>0</td>\n",
       "      <td>male</td>\n",
       "    </tr>\n",
       "    <tr>\n",
       "      <th>393</th>\n",
       "      <td>0</td>\n",
       "      <td>NaN</td>\n",
       "      <td>7</td>\n",
       "      <td>n</td>\n",
       "      <td>0</td>\n",
       "      <td>male</td>\n",
       "    </tr>\n",
       "  </tbody>\n",
       "</table>\n",
       "</div>"
      ],
      "text/plain": [
       "      cabin_map cabin  CabinReduced_map CabinReduced  sex_map     sex\n",
       "1139          0   NaN                 7            n        0    male\n",
       "533           0   NaN                 7            n        1  female\n",
       "459           0   NaN                 7            n        0    male\n",
       "1150          0   NaN                 7            n        0    male\n",
       "393           0   NaN                 7            n        0    male"
      ]
     },
     "execution_count": 215,
     "metadata": {},
     "output_type": "execute_result"
    }
   ],
   "source": [
    "X_test[['cabin_map','cabin','CabinReduced_map','CabinReduced','sex_map','sex']].head(5)"
   ]
  },
  {
   "cell_type": "code",
   "execution_count": 216,
   "metadata": {},
   "outputs": [
    {
     "data": {
      "text/plain": [
       "cabin               702\n",
       "CabinReduced          0\n",
       "sex                   0\n",
       "cabin_map             0\n",
       "CabinReduced_map      0\n",
       "sex_map               0\n",
       "dtype: int64"
      ]
     },
     "execution_count": 216,
     "metadata": {},
     "output_type": "execute_result"
    }
   ],
   "source": [
    "#Zadanie 8\n",
    "X_train.isnull().sum()"
   ]
  },
  {
   "cell_type": "code",
   "execution_count": 217,
   "metadata": {},
   "outputs": [
    {
     "data": {
      "text/plain": [
       "cabin               312\n",
       "CabinReduced          0\n",
       "sex                   0\n",
       "cabin_map             0\n",
       "CabinReduced_map      0\n",
       "sex_map               0\n",
       "dtype: int64"
      ]
     },
     "execution_count": 217,
     "metadata": {},
     "output_type": "execute_result"
    }
   ],
   "source": [
    "X_test.isnull().sum()"
   ]
  },
  {
   "cell_type": "markdown",
   "metadata": {},
   "source": [
    "W kolumnach powstałych w wyniku map nie ma brakujących wartości. Jest to spowodawane tym, że w wyniku mapowania wartości null zostały zastąpione przez inne watości i nie są one liczone jako brakujące wartości."
   ]
  },
  {
   "cell_type": "code",
   "execution_count": 218,
   "metadata": {},
   "outputs": [],
   "source": [
    "#Zadanie 9\n",
    "titanic=titanic.replace(np.NaN,0)"
   ]
  },
  {
   "cell_type": "markdown",
   "metadata": {},
   "source": [
    "Zmieniając nulle na 0 dodajemy nową etykietę, co zwiększy kardynalność i wpłynie na dalsze działania."
   ]
  },
  {
   "cell_type": "code",
   "execution_count": 219,
   "metadata": {},
   "outputs": [
    {
     "data": {
      "text/plain": [
       "0"
      ]
     },
     "execution_count": 219,
     "metadata": {},
     "output_type": "execute_result"
    }
   ],
   "source": [
    "#Zadanie 10\n",
    "Unique_test1 = [x for x in X_test.cabin_map.unique() if x not in X_train.cabin_map.unique()]\n",
    "len(Unique_test1)"
   ]
  },
  {
   "cell_type": "code",
   "execution_count": 220,
   "metadata": {},
   "outputs": [
    {
     "data": {
      "text/plain": [
       "0"
      ]
     },
     "execution_count": 220,
     "metadata": {},
     "output_type": "execute_result"
    }
   ],
   "source": [
    "Unique_test2 = [x for x in X_test.CabinReduced_map.unique() if x not in X_train.CabinReduced_map.unique()]\n",
    "len(Unique_test2)"
   ]
  },
  {
   "cell_type": "code",
   "execution_count": 221,
   "metadata": {},
   "outputs": [
    {
     "data": {
      "text/plain": [
       "0"
      ]
     },
     "execution_count": 221,
     "metadata": {},
     "output_type": "execute_result"
    }
   ],
   "source": [
    "Unique_test3 = [x for x in X_test.sex_map.unique() if x not in X_train.sex_map.unique()]\n",
    "len(Unique_test3)"
   ]
  },
  {
   "cell_type": "code",
   "execution_count": 222,
   "metadata": {},
   "outputs": [
    {
     "name": "stdout",
     "output_type": "stream",
     "text": [
      "Liczba etykiet X_train zmiennej cabin: 151 \n",
      "Liczba etykiet X_train zmiennej CabinReduced: 9 \n",
      "Liczba etykiet X_train zmiennej sex: 2 \n",
      "Liczba etykiet X_train zmiennej cabin_map: 151 \n",
      "Liczba etykiet X_train zmiennej CabinReduced_map: 9 \n",
      "Liczba etykiet X_train zmiennej sex_map: 2 \n",
      "Liczba etykiet X_test zmiennej cabin: 71 \n",
      "Liczba etykiet X_test zmiennej CabinReduced: 8 \n",
      "Liczba etykiet X_test zmiennej sex: 2 \n",
      "Liczba etykiet X_test zmiennej cabin_map: 71 \n",
      "Liczba etykiet X_test zmiennej CabinReduced_map: 8 \n",
      "Liczba etykiet X_test zmiennej sex_map: 2 \n"
     ]
    }
   ],
   "source": [
    "for c in X_train:\n",
    "    print('Liczba etykiet X_train zmiennej ' +c+ ': {} '.format(len(X_train[c].unique()))) \n",
    "for c in X_test:\n",
    "    print('Liczba etykiet X_test zmiennej ' +c+ ': {} '.format(len(X_test[c].unique()))) "
   ]
  },
  {
   "cell_type": "markdown",
   "metadata": {},
   "source": [
    "Liczba etykiet po redukcji zmalała w stosunku do ich liczny przed redukcją. Po mapowanoi liczba etykiet się nie zmieniła.<br>\n",
    "Tak, cały proces może mieć wpływ na końcowy wynik predykcji i jakość modelu: redukcja etykier, zmiana brakujących wartości na zera.."
   ]
  }
 ],
 "metadata": {
  "kernelspec": {
   "display_name": "Python py36",
   "language": "python",
   "name": "datascience"
  },
  "language_info": {
   "codemirror_mode": {
    "name": "ipython",
    "version": 3
   },
   "file_extension": ".py",
   "mimetype": "text/x-python",
   "name": "python",
   "nbconvert_exporter": "python",
   "pygments_lexer": "ipython3",
   "version": "3.6.10"
  }
 },
 "nbformat": 4,
 "nbformat_minor": 4
}
